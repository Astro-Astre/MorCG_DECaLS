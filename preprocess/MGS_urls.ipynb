{
 "cells": [
  {
   "cell_type": "code",
   "execution_count": null,
   "outputs": [],
   "source": [
    "\"\"\"\n",
    "using this ipynb to create urls of two regions for downloading\n",
    "and this is the first ipynb\n",
    "\"\"\""
   ],
   "metadata": {
    "collapsed": false,
    "pycharm": {
     "name": "#%%\n"
    }
   }
  },
  {
   "cell_type": "code",
   "execution_count": 4,
   "outputs": [],
   "source": [
    "import os\n",
    "import pandas as pd\n",
    "import numpy as np\n",
    "from astropy.io import fits\n",
    "from tqdm import tqdm"
   ],
   "metadata": {
    "collapsed": false,
    "pycharm": {
     "name": "#%%\n"
    }
   }
  },
  {
   "cell_type": "code",
   "execution_count": 5,
   "outputs": [],
   "source": [
    "# main galaxy sample raw catalog, 74w sample\n",
    "with fits.open(\"/data/renhaoye/MorCG/dataset/VAGC_MGS-m14_1777--20180116.fits\") as hdul:\n",
    "    ra = np.array(hdul[1].data[\"RA      \"])\n",
    "    dec = np.array(hdul[1].data[\"DEC     \"])\n",
    "    petro_mag = np.array(hdul[1].data[\"PETROMAG\"][:, 2])\n",
    "    MGS = pd.DataFrame(np.array((ra, dec, petro_mag)).T, columns=[\"ra\", \"dec\", \"petro_mag\"])"
   ],
   "metadata": {
    "collapsed": false,
    "pycharm": {
     "name": "#%%\n"
    }
   }
  },
  {
   "cell_type": "code",
   "execution_count": 36,
   "outputs": [
    {
     "name": "stderr",
     "output_type": "stream",
     "text": [
      "100%|████████████████████████████████████████████████████████████████████████| 746950/746950 [00:41<00:00, 18132.47it/s]\n"
     ]
    }
   ],
   "source": [
    "in_decals_urls = []\n",
    "for i in tqdm(range(len(MGS))):\n",
    "# for i in tqdm(range(200)):\n",
    "    ra, dec = MGS.iloc[i, 0], MGS.iloc[i, 1]\n",
    "    in_decals_urls.append(\"https://www.legacysurvey.org/viewer/fits-cutout?ra=%s&dec=%s&layer=ls-dr9-south&pixscale=0.262&bands=grz\" % (ra, dec))\n",
    "with open(\"/data/renhaoye/MorCG/dataset/in_decals/raw_fits/in_decals_urls.txt\", \"w\") as w:\n",
    "    for i in tqdm(range(len(in_decals_urls))):\n",
    "        w.write(in_decals_urls[i] + \"\\n\")"
   ],
   "metadata": {
    "collapsed": false,
    "pycharm": {
     "name": "#%%\n"
    }
   }
  },
  {
   "cell_type": "code",
   "execution_count": 38,
   "outputs": [
    {
     "name": "stderr",
     "output_type": "stream",
     "text": [
      "100%|████████████████████████████████████████████████████████████████████████| 746950/746950 [00:41<00:00, 18167.37it/s]\n",
      "100%|██████████████████████████████████████████████████████████████████████| 746950/746950 [00:00<00:00, 1660722.84it/s]\n"
     ]
    }
   ],
   "source": [
    "out_decals_urls = []\n",
    "for i in tqdm(range(len(MGS))):\n",
    "    ra, dec = MGS.iloc[i, 0], MGS.iloc[i, 1]\n",
    "    out_decals_urls.append(\"https://www.legacysurvey.org/viewer/fits-cutout?ra=%s&dec=%s&layer=ls-dr9-north&pixscale=0.27&bands=grz\" % (ra, dec))\n",
    "with open(\"/data/renhaoye/MorCG/dataset/out_decals/raw_fits/out_decals_urls.txt\", \"w\") as w:\n",
    "    for i in tqdm(range(len(out_decals_urls))):\n",
    "        w.write(out_decals_urls[i] + \"\\n\")"
   ],
   "metadata": {
    "collapsed": false,
    "pycharm": {
     "name": "#%%\n"
    }
   }
  }
 ],
 "metadata": {
  "kernelspec": {
   "display_name": "Python 3",
   "language": "python",
   "name": "python3"
  },
  "language_info": {
   "codemirror_mode": {
    "name": "ipython",
    "version": 2
   },
   "file_extension": ".py",
   "mimetype": "text/x-python",
   "name": "python",
   "nbconvert_exporter": "python",
   "pygments_lexer": "ipython2",
   "version": "2.7.6"
  }
 },
 "nbformat": 4,
 "nbformat_minor": 0
}