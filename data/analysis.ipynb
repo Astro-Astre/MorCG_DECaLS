{
 "cells": [
  {
   "cell_type": "code",
   "execution_count": 2,
   "outputs": [],
   "source": [
    "import sys\n",
    "sys.path.append(\"/data/renhaoye/MorCG_DECaLS/\")\n",
    "sys.path.append(\"/data/renhaoye/MorCG_DECaLS/astre_utils/\")\n",
    "sys.path.append(\"/data/renhaoye/MorCG_DECaLS/astre_utils/catalog/\")\n",
    "sys.path.append(\"/data/renhaoye/MorCG_DECaLS/astre_utils/img/\")\n",
    "sys.path.append(\"/data/renhaoye/MorCG_DECaLS/data/\")\n",
    "sys.path.append(\"/data/renhaoye/MorCG_DECaLS/for_me/\")\n",
    "sys.path.append(\"/data/renhaoye/MorCG_DECaLS/models/\")\n",
    "sys.path.append(\"/data/renhaoye/MorCG_DECaLS/utils/\")\n",
    "sys.path.append(\"/data/renhaoye/MorCG_DECaLS/training/\")"
   ],
   "metadata": {
    "collapsed": false,
    "pycharm": {
     "name": "#%%\n"
    }
   }
  },
  {
   "cell_type": "code",
   "execution_count": 3,
   "outputs": [],
   "source": [
    "from astre_utils.catalog.match import match\n",
    "from data.utils import load_dir\n",
    "import numpy as np\n",
    "from astropy.io import fits\n",
    "import pandas as pd\n",
    "from sklearn.model_selection import train_test_split\n",
    "from utils.label_metadata import *\n",
    "from utils.schemas import *\n",
    "import os"
   ],
   "metadata": {
    "collapsed": false,
    "pycharm": {
     "name": "#%%\n"
    }
   }
  },
  {
   "cell_type": "code",
   "execution_count": 4,
   "outputs": [],
   "source": [
    "\"\"\"local files in DECaLS\"\"\"\n",
    "df_in_decals = load_dir(\"/data/renhaoye/MorCG/dataset/in_decals/raw_fits/\")\n",
    "\"\"\"local files in BASS+MzLS\"\"\"\n",
    "df_out_decals = load_dir(\"/data/renhaoye/MorCG/dataset/out_decals/scaled/\")\n",
    "\"\"\"main galaxy sample\"\"\"\n",
    "with fits.open(\"/data/renhaoye/MorCG/dataset/VAGC_MGS-m14_1777--20180116.fits\") as hdul:\n",
    "    ra = np.array(hdul[1].data[\"RA      \"])\n",
    "    dec = np.array(hdul[1].data[\"DEC     \"])\n",
    "    petro_mag = np.array(hdul[1].data[\"PETROMAG\"][:, 2])\n",
    "    MGS = pd.DataFrame(np.array((ra, dec, petro_mag)).T, columns=[\"ra\", \"dec\", \"petro_mag\"])\n",
    "# \"\"\"overlap of DECaLS and BASS+MzLS\"\"\"\n",
    "# overlap = match(df_in_decals, df_out_decals, 2, [\"in_ra\", \"in_dec\"]).drop(columns=[\"ra\", \"dec\"]).rename(columns={\"in_ra\":\"ra\", \"in_dec\":\"dec\"})\n",
    "df_c = pd.read_csv(\"/data/renhaoye/MorCG/dataset/gz_decals_volunteers_c.csv\", index_col=0).rename(columns=lambda x: x.replace(\"-\", \"_\")).fillna(0)"
   ],
   "metadata": {
    "collapsed": false,
    "pycharm": {
     "name": "#%%\n"
    }
   }
  },
  {
   "cell_type": "code",
   "execution_count": 5,
   "outputs": [],
   "source": [
    "def get_each_question(df_c, votes):\n",
    "    return df_c.query(\"smooth_or_featured_total_votes >= %d\" % votes),\\\n",
    "           df_c.query(\"disk_edge_on_total_votes >= %d\" % votes),\\\n",
    "           df_c.query(\"has_spiral_arms_total_votes >= %d\" % votes),\\\n",
    "           df_c.query(\"bar_total_votes >= %d\" % votes),\\\n",
    "           df_c.query(\"bulge_size_total_votes >= %d\" % votes),\\\n",
    "           df_c.query(\"how_rounded_total_votes >= %d\" % votes),\\\n",
    "           df_c.query(\"edge_on_bulge_total_votes >= %d\" % votes),\\\n",
    "           df_c.query(\"spiral_winding_total_votes >= %d\" % votes),\\\n",
    "           df_c.query(\"spiral_arm_count_total_votes >= %d\" % votes),\\\n",
    "           df_c.query(\"merging_total_votes >= %d\" % votes)\n",
    "def get_total_question(df, votes, operator):\n",
    "    if operator == \">=\":\n",
    "        return df.query(\"smooth_or_featured_total_votes >= %d | disk_edge_on_total_votes >= %d | has_spiral_arms_total_votes >= %d | bar_total_votes >= %d | bulge_size_total_votes >= %d | how_rounded_total_votes >= %d | edge_on_bulge_total_votes >= %d | spiral_winding_total_votes >= %d | spiral_arm_count_total_votes >= %d | merging_total_votes >= %d\" %(votes, votes, votes, votes, votes, votes, votes, votes, votes, votes))\n",
    "    if operator == \"<=\":\n",
    "        return df.query(\"smooth_or_featured_total_votes >= 3 | disk_edge_on_total_votes >= 3 | has_spiral_arms_total_votes >= 3 | bar_total_votes >= 3 | bulge_size_total_votes >= 3 | how_rounded_total_votes >= 3 | edge_on_bulge_total_votes >= 3 | spiral_winding_total_votes >= 3 | spiral_arm_count_total_votes >= 3 | merging_total_votes >= 3\").query(\"smooth_or_featured_total_votes <= %d | disk_edge_on_total_votes <= %d | has_spiral_arms_total_votes <= %d | bar_total_votes <= %d | bulge_size_total_votes <= %d | how_rounded_total_votes <= %d | edge_on_bulge_total_votes <= %d | spiral_winding_total_votes <= %d | spiral_arm_count_total_votes <= %d | merging_total_votes <= %d\" %(votes, votes, votes, votes, votes, votes, votes, votes, votes, votes))"
   ],
   "metadata": {
    "collapsed": false,
    "pycharm": {
     "name": "#%%\n"
    }
   }
  },
  {
   "cell_type": "code",
   "execution_count": 23,
   "outputs": [
    {
     "data": {
      "text/plain": "(140931, 3713, 3618, 137313, 95)"
     },
     "execution_count": 23,
     "metadata": {},
     "output_type": "execute_result"
    }
   ],
   "source": [
    "in_decals = match(df_in_decals, df_c, 2, [\"real_ra\", \"real_dec\"]).drop(columns=[\"ra\", \"dec\"]).rename(columns={\"real_ra\":\"ra\", \"real_dec\":\"dec\"})\n",
    "out_decals = match(df_out_decals, df_c, 2, [\"real_ra\", \"real_dec\"]).drop(columns=[\"ra\", \"dec\"]).rename(columns={\"real_ra\":\"ra\", \"real_dec\":\"dec\"})\n",
    "overlap = match(in_decals[[\"ra\", \"dec\"]], out_decals, 2, [\"in_ra\", \"in_dec\"]).drop(columns=[\"ra\", \"dec\"]).rename(columns={\"in_ra\":\"ra\", \"in_dec\":\"dec\"})\n",
    "only_in_decals = pd.concat([in_decals, out_decals, out_decals]).drop_duplicates(keep=False)\n",
    "only_out_decals = pd.concat([out_decals, in_decals, in_decals]).drop_duplicates(keep=False)\n",
    "len(in_decals), len(out_decals), len(overlap), len(only_in_decals), len(only_out_decals)"
   ],
   "metadata": {
    "collapsed": false,
    "pycharm": {
     "name": "#%%\n"
    }
   }
  },
  {
   "cell_type": "code",
   "execution_count": 12,
   "outputs": [
    {
     "data": {
      "text/plain": "(135599, 0.026681612696258822)"
     },
     "execution_count": 12,
     "metadata": {},
     "output_type": "execute_result"
    }
   ],
   "source": [
    "only_in_decals_data = get_total_question(only_in_decals, 3, \">=\")\n",
    "len(only_in_decals_data), len(overlap)/len(only_in_decals_data)"
   ],
   "metadata": {
    "collapsed": false,
    "pycharm": {
     "name": "#%%\n"
    }
   }
  },
  {
   "cell_type": "code",
   "execution_count": 18,
   "outputs": [],
   "source": [
    "train, valid = train_test_split(only_in_decals_data, train_size=0.8266, random_state=1926)\n",
    "valid = pd.concat([valid, overlap])\n",
    "len(train), len(valid)"
   ],
   "metadata": {
    "collapsed": false,
    "pycharm": {
     "name": "#%%\n"
    }
   }
  },
  {
   "cell_type": "code",
   "execution_count": 35,
   "outputs": [],
   "source": [
    "train.to_csv(\"/data/renhaoye/MorCG_DECaLS/dataset/train.csv\")\n",
    "valid.to_csv(\"/data/renhaoye/MorCG_DECaLS/dataset/valid.csv\")"
   ],
   "metadata": {
    "collapsed": false,
    "pycharm": {
     "name": "#%%\n"
    }
   }
  },
  {
   "cell_type": "code",
   "execution_count": 25,
   "outputs": [
    {
     "data": {
      "text/plain": "(8058, 1183, 873, 873, 873, 1501, 119, 599, 599, 6763)"
     },
     "execution_count": 25,
     "metadata": {},
     "output_type": "execute_result"
    }
   ],
   "source": [
    "q1, q2, q3, q4, q5, q6, q7, q8, q9, q10 = get_each_question(valid, 34)\n",
    "len(q1), len(q2), len(q3), len(q4), len(q5), len(q6), len(q7), len(q8), len(q9), len(q10)"
   ],
   "metadata": {
    "collapsed": false,
    "pycharm": {
     "name": "#%%\n"
    }
   }
  },
  {
   "cell_type": "code",
   "execution_count": 27,
   "outputs": [],
   "source": [
    "question_answer_pairs = gz2_pairs\n",
    "dependencies = gz2_and_decals_dependencies\n",
    "schema = Schema(question_answer_pairs, dependencies)\n",
    "label_cols = schema.label_cols\n",
    "def get_galaxy_label(galaxy, label_cols):\n",
    "    # no longer casts to int64, user now responsible in df. If dtype is mixed, will try to infer with infer_objects\n",
    "    return galaxy[label_cols].infer_objects().values.squeeze()  # squeeze for if there's one label_col"
   ],
   "metadata": {
    "collapsed": false,
    "pycharm": {
     "name": "#%%\n"
    }
   }
  },
  {
   "cell_type": "code",
   "execution_count": 34,
   "outputs": [],
   "source": [
    "func = [\"train\", \"valid\"]\n",
    "dataset = [train, valid]\n",
    "# for i in range(1):\n",
    "for i in range(len(func)):\n",
    "    with open(\"/data/renhaoye/MorCG_DECaLS/dataset/mw_%s.txt\" % func[i] , \"w\") as w:\n",
    "        # for j in range(2,3):\n",
    "        for j in range(len(dataset[i])):\n",
    "            ra, dec = str(dataset[i].iloc[j, 0]), str(dataset[i].iloc[j, 1]),   # 先拿坐标和标签，这一步仅适用于decals的，sdss匹配的不可以\n",
    "            path = \"/data/renhaoye/MorCG/dataset/in_decals/agmtn/\" + ra + \"_\" + dec + \".fits\"\n",
    "            if os.path.exists(path):\n",
    "                w.write(path + \" label:\")\n",
    "                for v in get_galaxy_label(dataset[i].iloc[j], label_cols):\n",
    "                    w.write(str(v) + \" \")\n",
    "                w.write(\" \\n\")\n",
    "                if i == 0:\n",
    "                    if os.path.exists(path.split(\".fits\")[0] + \"_rotated.fits\"):\n",
    "                        w.write(path.split(\".fits\")[0] + \"_rotated.fits\" + \" label:\")\n",
    "                        for v in get_galaxy_label(dataset[i].iloc[j], label_cols):\n",
    "                            w.write(str(v) + \" \")\n",
    "                        w.write(\" \\n\")\n",
    "                    if os.path.exists(path.split(\".fits\")[0] + \"_flipped.fits\"):\n",
    "                        w.write(path.split(\".fits\")[0] + \"_flipped.fits\" + \" label:\")\n",
    "                        for v in get_galaxy_label(dataset[i].iloc[j], label_cols):\n",
    "                            w.write(str(v) + \" \")\n",
    "                        w.write(\" \\n\")\n",
    "                    if os.path.exists(path.split(\".fits\")[0] + \"_shifted.fits\"):\n",
    "                        w.write(path.split(\".fits\")[0] + \"_shifted.fits\" + \" label:\")\n",
    "                        for v in get_galaxy_label(dataset[i].iloc[j], label_cols):\n",
    "                            w.write(str(v) + \" \")\n",
    "                        w.write(\" \\n\")\n",
    "            else:\n",
    "                print(path.split(\".fits\")[0])"
   ],
   "metadata": {
    "collapsed": false,
    "pycharm": {
     "name": "#%%\n"
    }
   }
  },
  {
   "cell_type": "code",
   "execution_count": null,
   "outputs": [],
   "source": [],
   "metadata": {
    "collapsed": false,
    "pycharm": {
     "name": "#%%\n"
    }
   }
  }
 ],
 "metadata": {
  "kernelspec": {
   "display_name": "Python 3",
   "language": "python",
   "name": "python3"
  },
  "language_info": {
   "codemirror_mode": {
    "name": "ipython",
    "version": 2
   },
   "file_extension": ".py",
   "mimetype": "text/x-python",
   "name": "python",
   "nbconvert_exporter": "python",
   "pygments_lexer": "ipython2",
   "version": "2.7.6"
  }
 },
 "nbformat": 4,
 "nbformat_minor": 0
}