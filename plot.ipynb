{
 "cells": [
  {
   "cell_type": "code",
   "execution_count": 1,
   "outputs": [],
   "source": [
    "import pandas as pd\n",
    "import matplotlib.pyplot as plt\n",
    "import numpy as np\n",
    "import astropy.units as u\n",
    "from astropy.coordinates import SkyCoord\n",
    "%matplotlib inline\n",
    "def argmax(x):\n",
    "    return np.argmax(np.array(x))\n",
    "def get_max(data, i):\n",
    "    data.loc[i, \"smooth_or_featured\"] = argmax([data.iloc[i, 1], data.iloc[i, 2], data.iloc[i, 3]])\n",
    "    data.loc[i, \"disk_edge_on\"] = argmax([data.iloc[i, 4], data.iloc[i, 5]])\n",
    "    data.loc[i, \"has_spiral_arms\"] = argmax([data.iloc[i, 6], data.iloc[i, 7]])\n",
    "\n",
    "    data.loc[i, \"bar\"] = argmax([data.iloc[i, 8], data.iloc[i, 9], data.iloc[i, 10]])\n",
    "    data.loc[i, \"bulge_size\"] = argmax([data.iloc[i, 11], data.iloc[i, 12], data.iloc[i, 13], data.iloc[i, 14], data.iloc[i, 15]])\n",
    "    data.loc[i, \"how_rounded\"] = argmax([data.iloc[i, 16], data.iloc[i, 17], data.iloc[i, 18]])\n",
    "    data.loc[i, \"edge_on_bulge\"] = argmax([data.iloc[i, 19], data.iloc[i, 20], data.iloc[i, 21]])\n",
    "    data.loc[i, \"spiral_winding\"] = argmax([data.iloc[i, 22], data.iloc[i, 23], data.iloc[i, 24]])\n",
    "    data.loc[i, \"spiral_arm_count\"] = argmax([data.iloc[i, 25], data.iloc[i, 26], data.iloc[i, 27], data.iloc[i, 28], data.iloc[i, 29], data.iloc[i, 30]])\n",
    "    data.loc[i, \"merging\"] = argmax([data.iloc[i, 31], data.iloc[i, 32], data.iloc[i, 33], data.iloc[i, 34]])\n",
    "def get_label(data):\n",
    "    pred_mw = 7\n",
    "    if data[31] > data[32] and data[31] > data[33] and data[31] > data[34]:\n",
    "        if data[1] > data[2] and data[1] > data[3]:\n",
    "            if data[16] > data[17] and data[16] > data[18]:\n",
    "                pred_mw = 1\n",
    "            elif data[17] > data[16] and data[17] > data[18]:\n",
    "                pred_mw = 2\n",
    "            elif data[18] > data[16] and data[18] > data[17]:\n",
    "                pred_mw = 3\n",
    "        elif data[2] > data[1] and data[2] > data[3]:\n",
    "            if data[4] > data[5]:\n",
    "                pred_mw = 4\n",
    "            elif data[5] > data[4]:\n",
    "                if data[8] > data[10]:\n",
    "                    pred_mw = 6\n",
    "                elif data[10] > data[8]:\n",
    "                    pred_mw = 5\n",
    "    else:\n",
    "        pred_mw = 0\n",
    "    return pred_mw\n",
    "def get_c_max(data, i):\n",
    "    data.loc[i, \"smooth_or_featured_c\"] = argmax([data.loc[i, \"smooth_or_featured_smooth_fraction\"], data.loc[i, \"smooth_or_featured_featured_or_disk_fraction\"], data.loc[i, \"smooth_or_featured_artifact_fraction\"]])\n",
    "    data.loc[i, \"disk_edge_on_c\"] = argmax([data.loc[i, \"disk_edge_on_yes_fraction\"], data.loc[i, \"disk_edge_on_no_fraction\"]])\n",
    "    data.loc[i, \"has_spiral_arms_c\"] = argmax([data.loc[i, \"has_spiral_arms_yes_fraction\"], data.loc[i, \"has_spiral_arms_no_fraction\"]])\n",
    "    data.loc[i, \"bar_c\"] = argmax([data.loc[i, \"bar_strong_fraction\"], data.loc[i, \"bar_weak_fraction\"], data.loc[i, \"bar_no_fraction\"]])\n",
    "    data.loc[i, \"bulge_size_c\"] = argmax([data.loc[i, \"bulge_size_dominant_fraction\"], data.loc[i, \"bulge_size_large_fraction\"], data.loc[i, \"bulge_size_moderate_fraction\"], data.loc[i, \"bulge_size_small_fraction\"], data.loc[i, \"bulge_size_none_fraction\"]])\n",
    "    data.loc[i, \"how_rounded_c\"] = argmax([data.loc[i, \"how_rounded_round_fraction\"], data.loc[i, \"how_rounded_in_between_fraction\"], data.loc[i, \"how_rounded_cigar_shaped_fraction\"]])\n",
    "    data.loc[i, \"edge_on_bulge_c\"] = argmax([data.loc[i, \"edge_on_bulge_boxy_fraction\"], data.loc[i, \"edge_on_bulge_none_fraction\"], data.loc[i, \"edge_on_bulge_rounded_fraction\"]])\n",
    "    data.loc[i, \"spiral_winding_c\"] = argmax([data.loc[i, \"spiral_winding_tight_fraction\"], data.loc[i, \"spiral_winding_medium_fraction\"], data.loc[i, \"spiral_winding_loose_fraction\"]])\n",
    "    data.loc[i, \"spiral_arm_count_c\"] = argmax([data.loc[i, \"spiral_arm_count_1_fraction\"], data.loc[i, \"spiral_arm_count_2_fraction\"], data.loc[i, \"spiral_arm_count_3_fraction\"], data.loc[i, \"spiral_arm_count_4_fraction\"], data.loc[i, \"spiral_arm_count_more_than_4_fraction\"], data.loc[i, \"spiral_arm_count_more_than_4_fraction\"]])\n",
    "    data.loc[i, \"merging_c\"] = argmax([data.loc[i, \"merging_none_fraction\"], data.loc[i, \"merging_minor_disturbance_fraction\"], data.loc[i, \"merging_major_disturbance_fraction\"], data.loc[i, \"merging_merger_fraction\"]])\n",
    "def match(df_1, df_2, pixel, df1_name):\n",
    "    \"\"\"\n",
    "    match two catalog\n",
    "    :param df_1:\n",
    "    :param df_2:\n",
    "    :return:\n",
    "    \"\"\"\n",
    "    sdss = SkyCoord(ra=df_1.ra * u.degree, dec=df_1.dec * u.degree)\n",
    "    decals = SkyCoord(ra=df_2.ra * u.degree, dec=df_2.dec * u.degree)\n",
    "    idx, d2d, d3d = sdss.match_to_catalog_sky(decals)\n",
    "    max_sep = pixel * 0.262 * u.arcsec\n",
    "    distance_idx = d2d < max_sep\n",
    "    sdss_matches = df_1.iloc[distance_idx]\n",
    "    matches = idx[distance_idx]\n",
    "    decal_matches = df_2.iloc[matches]\n",
    "    test = sdss_matches.loc[:].rename(columns={\"ra\":\"%s\" % df1_name[0], \"dec\":\"%s\" % df1_name[1]})\n",
    "    test.insert(0, 'ID', range(len(test)))\n",
    "    decal_matches.insert(0, 'ID', range(len(decal_matches)))\n",
    "    new_df = pd.merge(test, decal_matches, how=\"inner\", on=[\"ID\"])\n",
    "    return new_df.drop(\"ID\", axis=1)\n",
    "def normpdf(x,mu,sigma):\n",
    "    pdf=np.exp(-(x-mu)**2/(2*sigma**2))/(sigma * np.sqrt(2 * np.pi))\n",
    "    return pdf\n",
    "def plot_posterior(mu, sigma, label, color):\n",
    "    # mu,sigma=df.loc[0, \"smooth_or_featured_smooth\"], 100*df.loc[0, \"smooth_or_featured_smooth_v\"]\n",
    "    x = np.arange(mu - 3 * sigma, mu + 3 * sigma, 0.0000001) #生成数据，步长越小，曲线越平滑\n",
    "    y = normpdf(x, mu, sigma)\n",
    "    return plt.plot(x,y,'g',linewidth=2, label=label, c=color)"
   ],
   "metadata": {
    "collapsed": false,
    "pycharm": {
     "name": "#%%\n"
    }
   }
  },
  {
   "cell_type": "code",
   "execution_count": 28,
   "outputs": [
    {
     "data": {
      "text/plain": "Index(['loc', 'smooth_or_featured_smooth',\n       'smooth_or_featured_featured_or_disk', 'smooth_or_featured_artifact',\n       'disk_edge_on_yes', 'disk_edge_on_no', 'has_spiral_arms_yes',\n       'has_spiral_arms_no', 'bar_strong', 'bar_weak', 'bar_no',\n       'bulge_size_dominant', 'bulge_size_large', 'bulge_size_moderate',\n       'bulge_size_small', 'bulge_size_none', 'how_rounded_round',\n       'how_rounded_medium', 'how_rounded_loose', 'edge_on_bulge_boxy',\n       'edge_on_bulge_none', 'edge_on_bulge_rounded', 'spiral_winding_tight',\n       'spiral_winding_medium', 'spiral_winding_loose', 'spiral_arm_count_1',\n       'spiral_arm_count_2', 'spiral_arm_count_3', 'spiral_arm_count_4',\n       'spiral_arm_count_more_than_4', 'spiral_arm_count_cant_tell',\n       'merging_none', 'merging_minor_disturbance',\n       'merging_major_disturbance', 'merging_merger',\n       'smooth_or_featured_smooth_v', 'smooth_or_featured_featured_or_disk_v',\n       'smooth_or_featured_artifact_v', 'disk_edge_on_yes_v',\n       'disk_edge_on_no_v', 'has_spiral_arms_yes_v', 'has_spiral_arms_no_v',\n       'bar_strong_v', 'bar_weak_v', 'bar_no_v', 'bulge_size_dominant_v',\n       'bulge_size_large_v', 'bulge_size_moderate_v', 'bulge_size_small_v',\n       'bulge_size_none_v', 'how_rounded_round_v', 'how_rounded_medium_v',\n       'how_rounded_loose_v', 'edge_on_bulge_boxy_v', 'edge_on_bulge_none_v',\n       'edge_on_bulge_rounded_v', 'spiral_winding_tight_v',\n       'spiral_winding_medium_v', 'spiral_winding_loose_v',\n       'spiral_arm_count_1_v', 'spiral_arm_count_2_v', 'spiral_arm_count_3_v',\n       'spiral_arm_count_4_v', 'spiral_arm_count_more_than_4_v',\n       'spiral_arm_count_cant_tell_v', 'merging_none_v',\n       'merging_minor_disturbance_v', 'merging_major_disturbance_v',\n       'merging_merger_v', 'pred', 'pred_mw', 'smooth_or_featured',\n       'disk_edge_on', 'has_spiral_arms', 'bulge_size', 'bar', 'how_rounded',\n       'edge_on_bulge', 'spiral_arm_count', 'spiral_winding', 'merging', 'ra',\n       'dec'],\n      dtype='object')"
     },
     "execution_count": 28,
     "metadata": {},
     "output_type": "execute_result"
    }
   ],
   "source": [
    "df.columns"
   ],
   "metadata": {
    "collapsed": false,
    "pycharm": {
     "name": "#%%\n"
    }
   }
  },
  {
   "cell_type": "code",
   "execution_count": 12,
   "outputs": [
    {
     "data": {
      "text/plain": "                                                 loc  \\\n0  /data/renhaoye/MorCG/dataset/in_decals/agmtn/3...   \n1  /data/renhaoye/MorCG/dataset/in_decals/agmtn/1...   \n2  /data/renhaoye/MorCG/dataset/in_decals/agmtn/1...   \n3  /data/renhaoye/MorCG/dataset/in_decals/agmtn/1...   \n4  /data/renhaoye/MorCG/dataset/in_decals/agmtn/1...   \n\n   smooth_or_featured_smooth  smooth_or_featured_featured_or_disk  \\\n0                   0.590673                             0.304145   \n1                   0.896983                             0.050955   \n2                   0.380224                             0.554671   \n3                   0.829111                             0.066759   \n4                   0.817584                             0.093324   \n\n   smooth_or_featured_artifact  disk_edge_on_yes  disk_edge_on_no  \\\n0                     0.105183          0.039618         0.960382   \n1                     0.052062          0.037820         0.962180   \n2                     0.065105          0.071368         0.928632   \n3                     0.104130          0.102302         0.897698   \n4                     0.089092          0.059474         0.940527   \n\n   has_spiral_arms_yes  has_spiral_arms_no  bar_strong  bar_weak  ...  \\\n0             0.016338            0.983662    0.014025  0.023992  ...   \n1             0.209580            0.790420    0.027082  0.088812  ...   \n2             0.763260            0.236740    0.033427  0.208164  ...   \n3             0.052606            0.947394    0.052832  0.094062  ...   \n4             0.039391            0.960609    0.025337  0.067887  ...   \n\n   has_spiral_arms  bulge_size  bar  how_rounded  edge_on_bulge  \\\n0                1           2    2            1              2   \n1                1           4    2            0              2   \n2                0           2    2            1              2   \n3                1           1    2            0              2   \n4                1           2    2            0              2   \n\n   spiral_arm_count  spiral_winding  merging          ra        dec  \n0                 0               2        3   37.781553   0.314032  \n1                 5               0        0  133.161156  32.342163  \n2                 5               0        0  154.069381  32.244862  \n3                 5               0        0  134.607308  32.007492  \n4                 5               0        0  141.853608  31.989032  \n\n[5 rows x 83 columns]",
      "text/html": "<div>\n<style scoped>\n    .dataframe tbody tr th:only-of-type {\n        vertical-align: middle;\n    }\n\n    .dataframe tbody tr th {\n        vertical-align: top;\n    }\n\n    .dataframe thead th {\n        text-align: right;\n    }\n</style>\n<table border=\"1\" class=\"dataframe\">\n  <thead>\n    <tr style=\"text-align: right;\">\n      <th></th>\n      <th>loc</th>\n      <th>smooth_or_featured_smooth</th>\n      <th>smooth_or_featured_featured_or_disk</th>\n      <th>smooth_or_featured_artifact</th>\n      <th>disk_edge_on_yes</th>\n      <th>disk_edge_on_no</th>\n      <th>has_spiral_arms_yes</th>\n      <th>has_spiral_arms_no</th>\n      <th>bar_strong</th>\n      <th>bar_weak</th>\n      <th>...</th>\n      <th>has_spiral_arms</th>\n      <th>bulge_size</th>\n      <th>bar</th>\n      <th>how_rounded</th>\n      <th>edge_on_bulge</th>\n      <th>spiral_arm_count</th>\n      <th>spiral_winding</th>\n      <th>merging</th>\n      <th>ra</th>\n      <th>dec</th>\n    </tr>\n  </thead>\n  <tbody>\n    <tr>\n      <th>0</th>\n      <td>/data/renhaoye/MorCG/dataset/in_decals/agmtn/3...</td>\n      <td>0.590673</td>\n      <td>0.304145</td>\n      <td>0.105183</td>\n      <td>0.039618</td>\n      <td>0.960382</td>\n      <td>0.016338</td>\n      <td>0.983662</td>\n      <td>0.014025</td>\n      <td>0.023992</td>\n      <td>...</td>\n      <td>1</td>\n      <td>2</td>\n      <td>2</td>\n      <td>1</td>\n      <td>2</td>\n      <td>0</td>\n      <td>2</td>\n      <td>3</td>\n      <td>37.781553</td>\n      <td>0.314032</td>\n    </tr>\n    <tr>\n      <th>1</th>\n      <td>/data/renhaoye/MorCG/dataset/in_decals/agmtn/1...</td>\n      <td>0.896983</td>\n      <td>0.050955</td>\n      <td>0.052062</td>\n      <td>0.037820</td>\n      <td>0.962180</td>\n      <td>0.209580</td>\n      <td>0.790420</td>\n      <td>0.027082</td>\n      <td>0.088812</td>\n      <td>...</td>\n      <td>1</td>\n      <td>4</td>\n      <td>2</td>\n      <td>0</td>\n      <td>2</td>\n      <td>5</td>\n      <td>0</td>\n      <td>0</td>\n      <td>133.161156</td>\n      <td>32.342163</td>\n    </tr>\n    <tr>\n      <th>2</th>\n      <td>/data/renhaoye/MorCG/dataset/in_decals/agmtn/1...</td>\n      <td>0.380224</td>\n      <td>0.554671</td>\n      <td>0.065105</td>\n      <td>0.071368</td>\n      <td>0.928632</td>\n      <td>0.763260</td>\n      <td>0.236740</td>\n      <td>0.033427</td>\n      <td>0.208164</td>\n      <td>...</td>\n      <td>0</td>\n      <td>2</td>\n      <td>2</td>\n      <td>1</td>\n      <td>2</td>\n      <td>5</td>\n      <td>0</td>\n      <td>0</td>\n      <td>154.069381</td>\n      <td>32.244862</td>\n    </tr>\n    <tr>\n      <th>3</th>\n      <td>/data/renhaoye/MorCG/dataset/in_decals/agmtn/1...</td>\n      <td>0.829111</td>\n      <td>0.066759</td>\n      <td>0.104130</td>\n      <td>0.102302</td>\n      <td>0.897698</td>\n      <td>0.052606</td>\n      <td>0.947394</td>\n      <td>0.052832</td>\n      <td>0.094062</td>\n      <td>...</td>\n      <td>1</td>\n      <td>1</td>\n      <td>2</td>\n      <td>0</td>\n      <td>2</td>\n      <td>5</td>\n      <td>0</td>\n      <td>0</td>\n      <td>134.607308</td>\n      <td>32.007492</td>\n    </tr>\n    <tr>\n      <th>4</th>\n      <td>/data/renhaoye/MorCG/dataset/in_decals/agmtn/1...</td>\n      <td>0.817584</td>\n      <td>0.093324</td>\n      <td>0.089092</td>\n      <td>0.059474</td>\n      <td>0.940527</td>\n      <td>0.039391</td>\n      <td>0.960609</td>\n      <td>0.025337</td>\n      <td>0.067887</td>\n      <td>...</td>\n      <td>1</td>\n      <td>2</td>\n      <td>2</td>\n      <td>0</td>\n      <td>2</td>\n      <td>5</td>\n      <td>0</td>\n      <td>0</td>\n      <td>141.853608</td>\n      <td>31.989032</td>\n    </tr>\n  </tbody>\n</table>\n<p>5 rows × 83 columns</p>\n</div>"
     },
     "execution_count": 12,
     "metadata": {},
     "output_type": "execute_result"
    }
   ],
   "source": [
    "df = pd.read_table(\"/data/renhaoye/overlap_test_mw_combine.txt\", sep=\" \")\n",
    "df.loc[:, \"pred_mw\"] = -1\n",
    "df.loc[:, \"smooth_or_featured\"] = -1\n",
    "df.loc[:, \"disk_edge_on\"] = -1\n",
    "df.loc[:, \"has_spiral_arms\"] = -1\n",
    "df.loc[:, \"bulge_size\"] = -1\n",
    "df.loc[:, \"bar\"] = -1\n",
    "df.loc[:, \"how_rounded\"] = -1\n",
    "df.loc[:, \"edge_on_bulge\"] = -1\n",
    "df.loc[:, \"spiral_arm_count\"] = -1\n",
    "df.loc[:, \"spiral_winding\"] = -1\n",
    "df.loc[:, \"merging\"] = -1\n",
    "for i in range(len(df)):\n",
    "    loc = df.loc[i, \"loc\"].split(\"agmtn/\")[1].split(\".fits\")[0]\n",
    "    ra, dec = loc.split(\"_\")\n",
    "    df.loc[i, \"ra\"] = float(ra)\n",
    "    df.loc[i, \"dec\"] = float(dec)\n",
    "for i in range(len(df)):\n",
    "    get_max(df, i)\n",
    "for i in range(len(df)):\n",
    "    df.loc[i, \"pred_mw\"] = get_label(df.iloc[i])\n",
    "df.head()"
   ],
   "metadata": {
    "collapsed": false,
    "pycharm": {
     "name": "#%%\n"
    }
   }
  },
  {
   "cell_type": "code",
   "execution_count": 13,
   "outputs": [
    {
     "data": {
      "text/plain": "(17, 102, 111, 55, 17, 76, 29)"
     },
     "execution_count": 13,
     "metadata": {},
     "output_type": "execute_result"
    }
   ],
   "source": [
    "merger = df.query(\"pred == 0\")\n",
    "round = df.query(\"pred == 1\")\n",
    "between = df.query(\"pred == 2\")\n",
    "cigar = df.query(\"pred == 3\")\n",
    "edgeOn = df.query(\"pred == 4\")\n",
    "noBar = df.query(\"pred == 5\")\n",
    "strongBar = df.query(\"pred == 6\")\n",
    "len(merger), len(round), len(between), len(cigar), len(edgeOn), len(noBar), len(strongBar)"
   ],
   "metadata": {
    "collapsed": false,
    "pycharm": {
     "name": "#%%\n"
    }
   }
  },
  {
   "cell_type": "code",
   "execution_count": 14,
   "outputs": [
    {
     "data": {
      "text/plain": "                                                 loc  \\\n0  /data/renhaoye/MorCG/dataset/in_decals/agmtn/3...   \n1  /data/renhaoye/MorCG/dataset/in_decals/agmtn/1...   \n2  /data/renhaoye/MorCG/dataset/in_decals/agmtn/1...   \n3  /data/renhaoye/MorCG/dataset/in_decals/agmtn/1...   \n4  /data/renhaoye/MorCG/dataset/in_decals/agmtn/1...   \n\n   smooth_or_featured_smooth_x  smooth_or_featured_featured_or_disk_x  \\\n0                     0.590673                               0.304145   \n1                     0.896983                               0.050955   \n2                     0.380224                               0.554671   \n3                     0.829111                               0.066759   \n4                     0.817584                               0.093324   \n\n   smooth_or_featured_artifact_x  disk_edge_on_yes_x  disk_edge_on_no_x  \\\n0                       0.105183            0.039618           0.960382   \n1                       0.052062            0.037820           0.962180   \n2                       0.065105            0.071368           0.928632   \n3                       0.104130            0.102302           0.897698   \n4                       0.089092            0.059474           0.940527   \n\n   has_spiral_arms_yes_x  has_spiral_arms_no_x  bar_strong_x  bar_weak_x  ...  \\\n0               0.016338              0.983662      0.014025    0.023992  ...   \n1               0.209580              0.790420      0.027082    0.088812  ...   \n2               0.763260              0.236740      0.033427    0.208164  ...   \n3               0.052606              0.947394      0.052832    0.094062  ...   \n4               0.039391              0.960609      0.025337    0.067887  ...   \n\n   smooth_or_featured_c  disk_edge_on_c  has_spiral_arms_c  bulge_size_c  \\\n0                     0               1                  1             1   \n1                     0               0                  0             0   \n2                     0               0                  0             3   \n3                     1               1                  1             0   \n4                     0               1                  1             2   \n\n   bar_c  how_rounded_c  edge_on_bulge_c  spiral_arm_count_c  \\\n0      2              1                2                   0   \n1      0              0                0                   0   \n2      2              1                0                   0   \n3      2              0                2                   0   \n4      2              0                0                   0   \n\n   spiral_winding_c  merging_c  \n0                 0          3  \n1                 0          0  \n2                 2          0  \n3                 0          0  \n4                 0          0  \n\n[5 rows x 182 columns]",
      "text/html": "<div>\n<style scoped>\n    .dataframe tbody tr th:only-of-type {\n        vertical-align: middle;\n    }\n\n    .dataframe tbody tr th {\n        vertical-align: top;\n    }\n\n    .dataframe thead th {\n        text-align: right;\n    }\n</style>\n<table border=\"1\" class=\"dataframe\">\n  <thead>\n    <tr style=\"text-align: right;\">\n      <th></th>\n      <th>loc</th>\n      <th>smooth_or_featured_smooth_x</th>\n      <th>smooth_or_featured_featured_or_disk_x</th>\n      <th>smooth_or_featured_artifact_x</th>\n      <th>disk_edge_on_yes_x</th>\n      <th>disk_edge_on_no_x</th>\n      <th>has_spiral_arms_yes_x</th>\n      <th>has_spiral_arms_no_x</th>\n      <th>bar_strong_x</th>\n      <th>bar_weak_x</th>\n      <th>...</th>\n      <th>smooth_or_featured_c</th>\n      <th>disk_edge_on_c</th>\n      <th>has_spiral_arms_c</th>\n      <th>bulge_size_c</th>\n      <th>bar_c</th>\n      <th>how_rounded_c</th>\n      <th>edge_on_bulge_c</th>\n      <th>spiral_arm_count_c</th>\n      <th>spiral_winding_c</th>\n      <th>merging_c</th>\n    </tr>\n  </thead>\n  <tbody>\n    <tr>\n      <th>0</th>\n      <td>/data/renhaoye/MorCG/dataset/in_decals/agmtn/3...</td>\n      <td>0.590673</td>\n      <td>0.304145</td>\n      <td>0.105183</td>\n      <td>0.039618</td>\n      <td>0.960382</td>\n      <td>0.016338</td>\n      <td>0.983662</td>\n      <td>0.014025</td>\n      <td>0.023992</td>\n      <td>...</td>\n      <td>0</td>\n      <td>1</td>\n      <td>1</td>\n      <td>1</td>\n      <td>2</td>\n      <td>1</td>\n      <td>2</td>\n      <td>0</td>\n      <td>0</td>\n      <td>3</td>\n    </tr>\n    <tr>\n      <th>1</th>\n      <td>/data/renhaoye/MorCG/dataset/in_decals/agmtn/1...</td>\n      <td>0.896983</td>\n      <td>0.050955</td>\n      <td>0.052062</td>\n      <td>0.037820</td>\n      <td>0.962180</td>\n      <td>0.209580</td>\n      <td>0.790420</td>\n      <td>0.027082</td>\n      <td>0.088812</td>\n      <td>...</td>\n      <td>0</td>\n      <td>0</td>\n      <td>0</td>\n      <td>0</td>\n      <td>0</td>\n      <td>0</td>\n      <td>0</td>\n      <td>0</td>\n      <td>0</td>\n      <td>0</td>\n    </tr>\n    <tr>\n      <th>2</th>\n      <td>/data/renhaoye/MorCG/dataset/in_decals/agmtn/1...</td>\n      <td>0.380224</td>\n      <td>0.554671</td>\n      <td>0.065105</td>\n      <td>0.071368</td>\n      <td>0.928632</td>\n      <td>0.763260</td>\n      <td>0.236740</td>\n      <td>0.033427</td>\n      <td>0.208164</td>\n      <td>...</td>\n      <td>0</td>\n      <td>0</td>\n      <td>0</td>\n      <td>3</td>\n      <td>2</td>\n      <td>1</td>\n      <td>0</td>\n      <td>0</td>\n      <td>2</td>\n      <td>0</td>\n    </tr>\n    <tr>\n      <th>3</th>\n      <td>/data/renhaoye/MorCG/dataset/in_decals/agmtn/1...</td>\n      <td>0.829111</td>\n      <td>0.066759</td>\n      <td>0.104130</td>\n      <td>0.102302</td>\n      <td>0.897698</td>\n      <td>0.052606</td>\n      <td>0.947394</td>\n      <td>0.052832</td>\n      <td>0.094062</td>\n      <td>...</td>\n      <td>1</td>\n      <td>1</td>\n      <td>1</td>\n      <td>0</td>\n      <td>2</td>\n      <td>0</td>\n      <td>2</td>\n      <td>0</td>\n      <td>0</td>\n      <td>0</td>\n    </tr>\n    <tr>\n      <th>4</th>\n      <td>/data/renhaoye/MorCG/dataset/in_decals/agmtn/1...</td>\n      <td>0.817584</td>\n      <td>0.093324</td>\n      <td>0.089092</td>\n      <td>0.059474</td>\n      <td>0.940527</td>\n      <td>0.039391</td>\n      <td>0.960609</td>\n      <td>0.025337</td>\n      <td>0.067887</td>\n      <td>...</td>\n      <td>0</td>\n      <td>1</td>\n      <td>1</td>\n      <td>2</td>\n      <td>2</td>\n      <td>0</td>\n      <td>0</td>\n      <td>0</td>\n      <td>0</td>\n      <td>0</td>\n    </tr>\n  </tbody>\n</table>\n<p>5 rows × 182 columns</p>\n</div>"
     },
     "execution_count": 14,
     "metadata": {},
     "output_type": "execute_result"
    }
   ],
   "source": [
    "c = pd.read_csv(\"/data/renhaoye/MorCG/dataset/gz_decals_volunteers_c.csv\").fillna(0).rename(columns=lambda x: x.replace(\"-\", \"_\"))\n",
    "c.loc[:, \"smooth_or_featured_c\"] = -1\n",
    "c.loc[:, \"disk_edge_on_c\"] = -1\n",
    "c.loc[:, \"has_spiral_arms_c\"] = -1\n",
    "c.loc[:, \"bulge_size_c\"] = -1\n",
    "c.loc[:, \"bar_c\"] = -1\n",
    "c.loc[:, \"how_rounded_c\"] = -1\n",
    "c.loc[:, \"edge_on_bulge_c\"] = -1\n",
    "c.loc[:, \"spiral_arm_count_c\"] = -1\n",
    "c.loc[:, \"spiral_winding_c\"] = -1\n",
    "c.loc[:, \"merging_c\"] = -1\n",
    "cmb = match(df, c, 2, df1_name=[\"in_ra\", \"in_dec\"]).drop(columns=[\"ra\", \"dec\"])\n",
    "cmb = cmb.rename(columns={\"in_ra\":\"ra\", \"in_dec\":\"dec\"})\n",
    "for i in range(len(cmb)):\n",
    "    get_c_max(cmb, i)\n",
    "cmb.head()"
   ],
   "metadata": {
    "collapsed": false,
    "pycharm": {
     "name": "#%%\n"
    }
   }
  },
  {
   "cell_type": "code",
   "execution_count": 17,
   "outputs": [
    {
     "data": {
      "text/plain": "Index(['dec', 'iauname', 'redshift', 'elpetro_absmag_r', 'sersic_nmgy_r',\n       'petro_th50', 'petro_th90', 'petro_theta', 'upload_group',\n       'active_learning_on', 'in_gzd_ab', 'png_loc',\n       'smooth_or_featured_total_votes', 'smooth_or_featured_smooth_y',\n       'smooth_or_featured_smooth_fraction',\n       'smooth_or_featured_featured_or_disk_y',\n       'smooth_or_featured_featured_or_disk_fraction',\n       'smooth_or_featured_artifact_y', 'smooth_or_featured_artifact_fraction',\n       'disk_edge_on_total_votes', 'disk_edge_on_yes_y',\n       'disk_edge_on_yes_fraction', 'disk_edge_on_no_y',\n       'disk_edge_on_no_fraction', 'has_spiral_arms_total_votes',\n       'has_spiral_arms_yes_y', 'has_spiral_arms_yes_fraction',\n       'has_spiral_arms_no_y', 'has_spiral_arms_no_fraction',\n       'bar_total_votes', 'bar_strong_y', 'bar_strong_fraction', 'bar_weak_y',\n       'bar_weak_fraction', 'bar_no_y', 'bar_no_fraction',\n       'bulge_size_total_votes', 'bulge_size_dominant_y',\n       'bulge_size_dominant_fraction', 'bulge_size_large_y',\n       'bulge_size_large_fraction', 'bulge_size_moderate_y',\n       'bulge_size_moderate_fraction', 'bulge_size_small_y',\n       'bulge_size_small_fraction', 'bulge_size_none_y',\n       'bulge_size_none_fraction', 'how_rounded_total_votes',\n       'how_rounded_round_y', 'how_rounded_round_fraction',\n       'how_rounded_in_between', 'how_rounded_in_between_fraction',\n       'how_rounded_cigar_shaped', 'how_rounded_cigar_shaped_fraction',\n       'edge_on_bulge_total_votes', 'edge_on_bulge_boxy_y',\n       'edge_on_bulge_boxy_fraction', 'edge_on_bulge_none_y',\n       'edge_on_bulge_none_fraction', 'edge_on_bulge_rounded_y',\n       'edge_on_bulge_rounded_fraction', 'spiral_winding_total_votes',\n       'spiral_winding_tight_y', 'spiral_winding_tight_fraction',\n       'spiral_winding_medium_y', 'spiral_winding_medium_fraction',\n       'spiral_winding_loose_y', 'spiral_winding_loose_fraction',\n       'spiral_arm_count_total_votes', 'spiral_arm_count_1_y',\n       'spiral_arm_count_1_fraction', 'spiral_arm_count_2_y',\n       'spiral_arm_count_2_fraction', 'spiral_arm_count_3_y',\n       'spiral_arm_count_3_fraction', 'spiral_arm_count_4_y',\n       'spiral_arm_count_4_fraction', 'spiral_arm_count_more_than_4_y',\n       'spiral_arm_count_more_than_4_fraction', 'spiral_arm_count_cant_tell_y',\n       'spiral_arm_count_cant_tell_fraction', 'merging_total_votes',\n       'merging_none_y', 'merging_none_fraction',\n       'merging_minor_disturbance_y', 'merging_minor_disturbance_fraction',\n       'merging_major_disturbance_y', 'merging_major_disturbance_fraction',\n       'merging_merger_y', 'merging_merger_fraction', 'smooth_or_featured_c',\n       'disk_edge_on_c', 'has_spiral_arms_c', 'bulge_size_c', 'bar_c',\n       'how_rounded_c', 'edge_on_bulge_c', 'spiral_arm_count_c',\n       'spiral_winding_c', 'merging_c'],\n      dtype='object')"
     },
     "execution_count": 17,
     "metadata": {},
     "output_type": "execute_result"
    }
   ],
   "source": [
    "cmb.columns[82:]"
   ],
   "metadata": {
    "collapsed": false,
    "pycharm": {
     "name": "#%%\n"
    }
   }
  },
  {
   "cell_type": "code",
   "execution_count": 15,
   "outputs": [
    {
     "data": {
      "text/plain": "0.8592233009708737"
     },
     "execution_count": 15,
     "metadata": {},
     "output_type": "execute_result"
    }
   ],
   "source": [
    "len(cmb.query(\"has_spiral_arms == has_spiral_arms_c == 0 and has_spiral_arms_total_votes > 35\"))/len(cmb.query(\"has_spiral_arms_total_votes > 35\"))"
   ],
   "metadata": {
    "collapsed": false,
    "pycharm": {
     "name": "#%%\n"
    }
   }
  },
  {
   "cell_type": "code",
   "execution_count": 16,
   "outputs": [
    {
     "data": {
      "text/plain": "0.8980582524271845"
     },
     "execution_count": 16,
     "metadata": {},
     "output_type": "execute_result"
    }
   ],
   "source": [
    "len(cmb.query(\"has_spiral_arms == has_spiral_arms_c and has_spiral_arms_total_votes > 35\"))/len(cmb.query(\"has_spiral_arms_total_votes > 35\"))"
   ],
   "metadata": {
    "collapsed": false,
    "pycharm": {
     "name": "#%%\n"
    }
   }
  },
  {
   "cell_type": "code",
   "execution_count": 19,
   "outputs": [
    {
     "data": {
      "text/plain": "0        0\n1        0\n2        0\n3        1\n4        1\n        ..\n17698    1\n17699    0\n17700    1\n17701    1\n17702    1\nName: has_spiral_arms, Length: 17703, dtype: int64"
     },
     "execution_count": 19,
     "metadata": {},
     "output_type": "execute_result"
    }
   ],
   "source": [
    "cmb.loc[:,\"has_spiral_arms\"]"
   ],
   "metadata": {
    "collapsed": false,
    "pycharm": {
     "name": "#%%\n"
    }
   }
  },
  {
   "cell_type": "code",
   "execution_count": 6,
   "outputs": [
    {
     "name": "stdout",
     "output_type": "stream",
     "text": [
      "333 283 218 145 204 334 82 71 313 372\n"
     ]
    }
   ],
   "source": [
    "print(len(cmb.query(\"smooth_or_featured == smooth_or_featured_c\")),\n",
    "len(cmb.query(\"disk_edge_on == disk_edge_on_c\")),\n",
    "len(cmb.query(\"has_spiral_arms == has_spiral_arms_c\")),\n",
    "len(cmb.query(\"bulge_size == bulge_size_c\")),\n",
    "len(cmb.query(\"bar == bar_c\")),\n",
    "len(cmb.query(\"how_rounded == how_rounded_c\")),\n",
    "len(cmb.query(\"edge_on_bulge == edge_on_bulge_c\")),\n",
    "len(cmb.query(\"spiral_arm_count == spiral_arm_count_c\")),\n",
    "len(cmb.query(\"spiral_winding == spiral_winding_c\")),\n",
    "len(cmb.query(\"merging == merging_c\")))"
   ],
   "metadata": {
    "collapsed": false,
    "pycharm": {
     "name": "#%%\n"
    }
   }
  },
  {
   "cell_type": "code",
   "execution_count": 5,
   "outputs": [
    {
     "name": "stdout",
     "output_type": "stream",
     "text": [
      "0.8181818181818182 0.6953316953316954 0.5356265356265356 0.35626535626535627 0.5012285012285013 0.8206388206388207 0.20147420147420148 0.17444717444717445 0.769041769041769 0.914004914004914\n"
     ]
    }
   ],
   "source": [
    "print(len(cmb.query(\"smooth_or_featured == smooth_or_featured_c\"))/len(cmb),\n",
    "len(cmb.query(\"disk_edge_on == disk_edge_on_c\"))/len(cmb),\n",
    "len(cmb.query(\"has_spiral_arms == has_spiral_arms_c\"))/len(cmb),\n",
    "len(cmb.query(\"bulge_size == bulge_size_c\"))/len(cmb),\n",
    "len(cmb.query(\"bar == bar_c\"))/len(cmb),\n",
    "len(cmb.query(\"how_rounded == how_rounded_c\"))/len(cmb),\n",
    "len(cmb.query(\"edge_on_bulge == edge_on_bulge_c\"))/len(cmb),\n",
    "len(cmb.query(\"spiral_arm_count == spiral_arm_count_c\"))/len(cmb),\n",
    "len(cmb.query(\"spiral_winding == spiral_winding_c\"))/len(cmb),\n",
    "len(cmb.query(\"merging == merging_c\"))/len(cmb))"
   ],
   "metadata": {
    "collapsed": false,
    "pycharm": {
     "name": "#%%\n"
    }
   }
  },
  {
   "cell_type": "code",
   "execution_count": 17,
   "outputs": [
    {
     "name": "stdout",
     "output_type": "stream",
     "text": [
      "smmoth_or_featured: 103 0.9029126213592233\n",
      "disk_edge_on: 22 1.0\n",
      "has_spiral_arms: 17 0.9411764705882353\n",
      "bar: 17 0.7058823529411765\n",
      "bulge_size: 17 0.8823529411764706\n",
      "how_rounded: 4 1.0\n",
      "spiral_winding: 12 0.6666666666666666\n",
      "spiral_arm_count: 12 0.5833333333333334\n",
      "merging: 90 0.9222222222222223\n"
     ]
    }
   ],
   "source": [
    "print(\"smmoth_or_featured:\", len(cmb.query(\"smooth_or_featured_total_votes >= 34\")),len(cmb.query(\"smooth_or_featured == smooth_or_featured_c and smooth_or_featured_total_votes >=34\"))/len(cmb.query(\"smooth_or_featured_total_votes >=34\")))\n",
    "print(\"disk_edge_on:\", len(cmb.query(\"disk_edge_on_total_votes >= 34\")),len(cmb.query(\"disk_edge_on == disk_edge_on_c  and disk_edge_on_total_votes >=34\"))/len(cmb.query(\"disk_edge_on_total_votes >=34\")))\n",
    "print(\"has_spiral_arms:\", len(cmb.query(\"has_spiral_arms_total_votes >= 34\")),len(cmb.query(\"has_spiral_arms == has_spiral_arms_c and has_spiral_arms_total_votes >=34\"))/len(cmb.query(\"has_spiral_arms_total_votes >=34\")))\n",
    "print(\"bar:\", len(cmb.query(\"bar_total_votes >= 34\")),len(cmb.query(\"bar == bar_c and bar_total_votes >=34\"))/len(cmb.query(\"bar_total_votes >=34\")))\n",
    "print(\"bulge_size:\", len(cmb.query(\"bulge_size_total_votes >= 34\")),len(cmb.query(\"bulge_size == bulge_size_c and bulge_size_total_votes >=34\"))/len(cmb.query(\"bulge_size_total_votes >=34\")))\n",
    "print(\"how_rounded:\", len(cmb.query(\"how_rounded_total_votes >= 34\")),len(cmb.query(\"how_rounded == how_rounded_c and how_rounded_total_votes >=34\"))/len(cmb.query(\"how_rounded_total_votes >=34\")))\n",
    "# print(\"edge_on_bulge:\", len(cmb.query(\"edge_on_bulge_total_votes >= 34\")),len(cmb.query(\"edge_on_bulge == edge_on_bulge_c and edge_on_bulge_total_votes >=34\"))/len(cmb.query(\"edge_on_bulge_total_votes >=34\")))\n",
    "print(\"spiral_winding:\", len(cmb.query(\"spiral_winding_total_votes >= 34\")),len(cmb.query(\"spiral_winding == spiral_winding_c and spiral_winding_total_votes >=34\"))/len(cmb.query(\"spiral_winding_total_votes >=34\")))\n",
    "print(\"spiral_arm_count:\", len(cmb.query(\"spiral_arm_count_total_votes >= 34\")),len(cmb.query(\"spiral_arm_count == spiral_arm_count_c and spiral_arm_count_total_votes >=34\"))/len(cmb.query(\"spiral_arm_count_total_votes >=34\")))\n",
    "print(\"merging:\", len(cmb.query(\"merging_total_votes >= 34\")),len(cmb.query(\"merging == merging_c and merging_total_votes >=34\"))/len(cmb.query(\"merging_total_votes >=34\")))"
   ],
   "metadata": {
    "collapsed": false,
    "pycharm": {
     "name": "#%%\n"
    }
   }
  },
  {
   "cell_type": "code",
   "execution_count": 9,
   "outputs": [
    {
     "name": "stdout",
     "output_type": "stream",
     "text": [
      "smmoth_or_featured: 103 0.7864077669902912\n",
      "disk_edge_on: 22 1.0\n",
      "has_spiral_arms: 17 0.9411764705882353\n",
      "bar: 17 0.6470588235294118\n",
      "bulge_size: 17 0.8823529411764706\n",
      "how_rounded: 4 1.0\n",
      "spiral_winding: 12 0.8333333333333334\n",
      "spiral_arm_count: 12 0.5833333333333334\n",
      "merging: 90 0.9222222222222223\n"
     ]
    }
   ],
   "source": [
    "print(\"smmoth_or_featured:\", len(cmb.query(\"smooth_or_featured_total_votes >= 34\")),len(cmb.query(\"smooth_or_featured == smooth_or_featured_c and smooth_or_featured_total_votes >=34\"))/len(cmb.query(\"smooth_or_featured_total_votes >=34\")))\n",
    "print(\"disk_edge_on:\", len(cmb.query(\"disk_edge_on_total_votes >= 34\")),len(cmb.query(\"disk_edge_on == disk_edge_on_c  and disk_edge_on_total_votes >=34\"))/len(cmb.query(\"disk_edge_on_total_votes >=34\")))\n",
    "print(\"has_spiral_arms:\", len(cmb.query(\"has_spiral_arms_total_votes >= 34\")),len(cmb.query(\"has_spiral_arms == has_spiral_arms_c and has_spiral_arms_total_votes >=34\"))/len(cmb.query(\"has_spiral_arms_total_votes >=34\")))\n",
    "print(\"bar:\", len(cmb.query(\"bar_total_votes >= 34\")),len(cmb.query(\"bar == bar_c and bar_total_votes >=34\"))/len(cmb.query(\"bar_total_votes >=34\")))\n",
    "print(\"bulge_size:\", len(cmb.query(\"bulge_size_total_votes >= 34\")),len(cmb.query(\"bulge_size == bulge_size_c and bulge_size_total_votes >=34\"))/len(cmb.query(\"bulge_size_total_votes >=34\")))\n",
    "print(\"how_rounded:\", len(cmb.query(\"how_rounded_total_votes >= 34\")),len(cmb.query(\"how_rounded == how_rounded_c and how_rounded_total_votes >=34\"))/len(cmb.query(\"how_rounded_total_votes >=34\")))\n",
    "# print(\"edge_on_bulge:\", len(cmb.query(\"edge_on_bulge_total_votes >= 34\")),len(cmb.query(\"edge_on_bulge == edge_on_bulge_c and edge_on_bulge_total_votes >=34\"))/len(cmb.query(\"edge_on_bulge_total_votes >=34\")))\n",
    "print(\"spiral_winding:\", len(cmb.query(\"spiral_winding_total_votes >= 34\")),len(cmb.query(\"spiral_winding == spiral_winding_c and spiral_winding_total_votes >=34\"))/len(cmb.query(\"spiral_winding_total_votes >=34\")))\n",
    "print(\"spiral_arm_count:\", len(cmb.query(\"spiral_arm_count_total_votes >= 34\")),len(cmb.query(\"spiral_arm_count == spiral_arm_count_c and spiral_arm_count_total_votes >=34\"))/len(cmb.query(\"spiral_arm_count_total_votes >=34\")))\n",
    "print(\"merging:\", len(cmb.query(\"merging_total_votes >= 34\")),len(cmb.query(\"merging == merging_c and merging_total_votes >=34\"))/len(cmb.query(\"merging_total_votes >=34\")))"
   ],
   "metadata": {
    "collapsed": false,
    "pycharm": {
     "name": "#%%\n"
    }
   }
  },
  {
   "cell_type": "code",
   "execution_count": 26,
   "outputs": [
    {
     "data": {
      "text/plain": "10779"
     },
     "execution_count": 26,
     "metadata": {},
     "output_type": "execute_result"
    }
   ],
   "source": [
    "572+778+572+572+572+1266+57+412+412+5566"
   ],
   "metadata": {
    "collapsed": false,
    "pycharm": {
     "name": "#%%\n"
    }
   }
  },
  {
   "cell_type": "code",
   "execution_count": 13,
   "outputs": [
    {
     "name": "stdout",
     "output_type": "stream",
     "text": [
      "0.9037738685911892 0.987146529562982 0.9178321678321678 0.8094405594405595 0.7622377622377622 0.9281200631911533 0.9473684210526315 0.7378640776699029 0.5412621359223301 0.8744160977362558\n"
     ]
    }
   ],
   "source": [
    "print(len(cmb.query(\"smooth_or_featured == smooth_or_featured_c and smooth_or_featured_total_votes >=34\"))/len(cmb.query(\"smooth_or_featured_total_votes >=34\")),\n",
    "len(cmb.query(\"disk_edge_on == disk_edge_on_c  and disk_edge_on_total_votes >=34\"))/len(cmb.query(\"disk_edge_on_total_votes >=34\")),\n",
    "len(cmb.query(\"has_spiral_arms == has_spiral_arms_c and has_spiral_arms_total_votes >=34\"))/len(cmb.query(\"has_spiral_arms_total_votes >=34\")),\n",
    "len(cmb.query(\"bulge_size == bulge_size_c and bulge_size_total_votes >=34\"))/len(cmb.query(\"bulge_size_total_votes >=34\")),\n",
    "len(cmb.query(\"bar == bar_c and bar_total_votes >=34\"))/len(cmb.query(\"bar_total_votes >=34\")),\n",
    "len(cmb.query(\"how_rounded == how_rounded_c and how_rounded_total_votes >=34\"))/len(cmb.query(\"how_rounded_total_votes >=34\")),\n",
    "len(cmb.query(\"edge_on_bulge == edge_on_bulge_c and edge_on_bulge_total_votes >=34\"))/len(cmb.query(\"edge_on_bulge_total_votes >=34\")),\n",
    "len(cmb.query(\"spiral_arm_count == spiral_arm_count_c and spiral_arm_count_total_votes >=34\"))/len(cmb.query(\"spiral_arm_count_total_votes >=34\")),\n",
    "len(cmb.query(\"spiral_winding == spiral_winding_c and spiral_winding_total_votes >=34\"))/len(cmb.query(\"spiral_winding_total_votes >=34\")),\n",
    "len(cmb.query(\"merging == merging_c and merging_total_votes >=34\"))/len(cmb.query(\"merging_total_votes >=34\")))"
   ],
   "metadata": {
    "collapsed": false,
    "pycharm": {
     "name": "#%%\n"
    }
   }
  },
  {
   "cell_type": "code",
   "execution_count": null,
   "outputs": [],
   "source": [
    "merger.head()"
   ],
   "metadata": {
    "collapsed": false,
    "pycharm": {
     "name": "#%%\n"
    }
   }
  },
  {
   "cell_type": "code",
   "execution_count": 9,
   "outputs": [],
   "source": [
    "label = [\"smooth_or_featured_smooth\", \"smooth_or_featured_featured_or_disk\", \"smooth_or_featured_artifact\"]\n",
    "color = [\"red\", \"blue\", \"green\"]"
   ],
   "metadata": {
    "collapsed": false,
    "pycharm": {
     "name": "#%%\n"
    }
   }
  },
  {
   "cell_type": "code",
   "execution_count": 21,
   "outputs": [
    {
     "data": {
      "text/plain": "                                                    loc  \\\n5591  /data/renhaoye/MorCG/dataset/in_decals/agmtn/1...   \n\n      smooth_or_featured_smooth_x  smooth_or_featured_featured_or_disk_x  \\\n5591                     0.070145                               0.835229   \n\n      smooth_or_featured_artifact_x  disk_edge_on_yes_x  disk_edge_on_no_x  \\\n5591                       0.094626            0.036966           0.963034   \n\n      has_spiral_arms_yes_x  has_spiral_arms_no_x  bar_strong_x  bar_weak_x  \\\n5591               0.847444              0.152556      0.143061    0.316008   \n\n      ...  smooth_or_featured_c  disk_edge_on_c  has_spiral_arms_c  \\\n5591  ...                     1               1                  0   \n\n      bulge_size_c  bar_c  how_rounded_c  edge_on_bulge_c  spiral_arm_count_c  \\\n5591             4      0              1                0                   1   \n\n      spiral_winding_c  merging_c  \n5591                 2          3  \n\n[1 rows x 182 columns]",
      "text/html": "<div>\n<style scoped>\n    .dataframe tbody tr th:only-of-type {\n        vertical-align: middle;\n    }\n\n    .dataframe tbody tr th {\n        vertical-align: top;\n    }\n\n    .dataframe thead th {\n        text-align: right;\n    }\n</style>\n<table border=\"1\" class=\"dataframe\">\n  <thead>\n    <tr style=\"text-align: right;\">\n      <th></th>\n      <th>loc</th>\n      <th>smooth_or_featured_smooth_x</th>\n      <th>smooth_or_featured_featured_or_disk_x</th>\n      <th>smooth_or_featured_artifact_x</th>\n      <th>disk_edge_on_yes_x</th>\n      <th>disk_edge_on_no_x</th>\n      <th>has_spiral_arms_yes_x</th>\n      <th>has_spiral_arms_no_x</th>\n      <th>bar_strong_x</th>\n      <th>bar_weak_x</th>\n      <th>...</th>\n      <th>smooth_or_featured_c</th>\n      <th>disk_edge_on_c</th>\n      <th>has_spiral_arms_c</th>\n      <th>bulge_size_c</th>\n      <th>bar_c</th>\n      <th>how_rounded_c</th>\n      <th>edge_on_bulge_c</th>\n      <th>spiral_arm_count_c</th>\n      <th>spiral_winding_c</th>\n      <th>merging_c</th>\n    </tr>\n  </thead>\n  <tbody>\n    <tr>\n      <th>5591</th>\n      <td>/data/renhaoye/MorCG/dataset/in_decals/agmtn/1...</td>\n      <td>0.070145</td>\n      <td>0.835229</td>\n      <td>0.094626</td>\n      <td>0.036966</td>\n      <td>0.963034</td>\n      <td>0.847444</td>\n      <td>0.152556</td>\n      <td>0.143061</td>\n      <td>0.316008</td>\n      <td>...</td>\n      <td>1</td>\n      <td>1</td>\n      <td>0</td>\n      <td>4</td>\n      <td>0</td>\n      <td>1</td>\n      <td>0</td>\n      <td>1</td>\n      <td>2</td>\n      <td>3</td>\n    </tr>\n  </tbody>\n</table>\n<p>1 rows × 182 columns</p>\n</div>"
     },
     "execution_count": 21,
     "metadata": {},
     "output_type": "execute_result"
    }
   ],
   "source": [
    "cmb.query(\"merging_merger_v>0.002\")"
   ],
   "metadata": {
    "collapsed": false,
    "pycharm": {
     "name": "#%%\n"
    }
   }
  },
  {
   "cell_type": "code",
   "execution_count": 20,
   "outputs": [
    {
     "data": {
      "text/plain": "'/data/renhaoye/MorCG/dataset/in_decals/agmtn/142.82629325393881_8.149542592602725.fits'"
     },
     "execution_count": 20,
     "metadata": {},
     "output_type": "execute_result"
    }
   ],
   "source": [
    "t = cmb.query(\"merging_merger_v>0.002\")\n",
    "t.iloc[0,0]"
   ],
   "metadata": {
    "collapsed": false,
    "pycharm": {
     "name": "#%%\n"
    }
   }
  },
  {
   "cell_type": "code",
   "execution_count": 16,
   "outputs": [
    {
     "data": {
      "text/plain": "<Figure size 432x288 with 1 Axes>",
      "image/png": "[encoded data removed]"
     },
     "metadata": {
      "needs_background": "light"
     },
     "output_type": "display_data"
    }
   ],
   "source": [
    "import seaborn as sns\n",
    "sns.histplot(100*cmb.merging_merger_v, kde=True)\n",
    "# sns.histplot(100*cmb.merging_none_v, kde=True)\n",
    "# sns.histplot(100*cmb.merging_minor_disturbance_v, kde=True)\n",
    "# sns.histplot(100*cmb.merging_major_disturbance_v, kde=True)\n",
    "plt.show()"
   ],
   "metadata": {
    "collapsed": false,
    "pycharm": {
     "name": "#%%\n"
    }
   }
  },
  {
   "cell_type": "code",
   "execution_count": 12,
   "outputs": [
    {
     "name": "stderr",
     "output_type": "stream",
     "text": [
      "/tmp/ipykernel_35037/1739932574.py:30: UserWarning: color is redundantly defined by the 'color' keyword argument and the fmt string \"g\" (-> color=(0.0, 0.5, 0.0, 1)). The keyword argument will take precedence.\n",
      "  return plt.plot(x,y,'g',linewidth=2, label=label, c=color)\n",
      "/tmp/ipykernel_35037/1739932574.py:30: UserWarning: color is redundantly defined by the 'color' keyword argument and the fmt string \"g\" (-> color=(0.0, 0.5, 0.0, 1)). The keyword argument will take precedence.\n",
      "  return plt.plot(x,y,'g',linewidth=2, label=label, c=color)\n",
      "/tmp/ipykernel_35037/1739932574.py:30: UserWarning: color is redundantly defined by the 'color' keyword argument and the fmt string \"g\" (-> color=(0.0, 0.5, 0.0, 1)). The keyword argument will take precedence.\n",
      "  return plt.plot(x,y,'g',linewidth=2, label=label, c=color)\n"
     ]
    },
    {
     "data": {
      "text/plain": "<Figure size 720x216 with 1 Axes>",
      "image/png": "[encoded data removed]"
     },
     "metadata": {
      "needs_background": "light"
     },
     "output_type": "display_data"
    }
   ],
   "source": [
    "plt.figure(figsize=(10,3))\n",
    "with plt.style.context(['science','nature']):\n",
    "    idx = 134\n",
    "    for i in range(len(label)):\n",
    "        plot_posterior(merger.loc[idx, label[i]], 100*merger.loc[idx, label[i]+\"_v\"], label[i], color=color[i])\n",
    "    plt.legend()\n",
    "    plt.xlim((0, 1))\n",
    "    # plt.ylim((0, 40))\n",
    "    plt.show()"
   ],
   "metadata": {
    "collapsed": false,
    "pycharm": {
     "name": "#%%\n"
    }
   }
  },
  {
   "cell_type": "code",
   "execution_count": null,
   "outputs": [],
   "source": [],
   "metadata": {
    "collapsed": false,
    "pycharm": {
     "name": "#%%\n"
    }
   }
  },
  {
   "cell_type": "code",
   "execution_count": null,
   "outputs": [],
   "source": [
    "mu,sigma=df.loc[0, \"smooth_or_featured_smooth\"], 100*df.loc[0, \"smooth_or_featured_smooth_v\"] #mu:期望;sigma:标准差\n",
    "x= np.arange(mu - 3 * sigma, mu + 3 * sigma, 0.000001) #生成数据，步长越小，曲线越平滑\n",
    "y=normpdf(x, mu, sigma)\n",
    "plt.plot(x,y,'g',linewidth=2)\n",
    "plt.grid()\n",
    "plt.xlim((0, 1))\n",
    "plt.show()\n",
    "df.head()"
   ],
   "metadata": {
    "collapsed": false,
    "pycharm": {
     "name": "#%%\n"
    }
   }
  }
 ],
 "metadata": {
  "kernelspec": {
   "display_name": "Python 3",
   "language": "python",
   "name": "python3"
  },
  "language_info": {
   "codemirror_mode": {
    "name": "ipython",
    "version": 2
   },
   "file_extension": ".py",
   "mimetype": "text/x-python",
   "name": "python",
   "nbconvert_exporter": "python",
   "pygments_lexer": "ipython2",
   "version": "2.7.6"
  }
 },
 "nbformat": 4,
 "nbformat_minor": 0
}